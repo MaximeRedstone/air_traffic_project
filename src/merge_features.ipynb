{
 "cells": [
  {
   "cell_type": "code",
   "execution_count": 1,
   "metadata": {},
   "outputs": [],
   "source": [
    "import pandas as pd\n",
    "import geopy.distance\n",
    "import problem\n",
    "from merge_transformer import MergeTransformer\n",
    "from sklearn.preprocessing import FunctionTransformer\n",
    "\n",
    "from create_db import create_db, _encode_dates\n",
    "import os"
   ]
  },
  {
   "cell_type": "code",
   "execution_count": 2,
   "metadata": {},
   "outputs": [],
   "source": [
    "X_train, y_train = problem.get_train_data('..')\n",
    "X_train.loc[:, \"DateOfDeparture\"] = pd.to_datetime(X_train['DateOfDeparture'])\n",
    "\n",
    "X_test, y_test = problem.get_test_data('..')\n",
    "X_test.loc[:, \"DateOfDeparture\"] = pd.to_datetime(X_test['DateOfDeparture'])"
   ]
  },
  {
   "cell_type": "code",
   "execution_count": 3,
   "metadata": {},
   "outputs": [],
   "source": [
    "def clean_df(X):\n",
    "    \n",
    "    date_encoder = FunctionTransformer(_encode_dates)\n",
    "    X = date_encoder.fit_transform(X)\n",
    "    X.drop('DateOfDeparture', axis=1, inplace=True)\n",
    "    X.rename({'DateBooked': 'DateOfDeparture', \n",
    "             'year':'year_departure',\n",
    "             'month':'month_departure',\n",
    "             'day':'day_departure',\n",
    "             'weekday':'weekday_departure',\n",
    "              'week':'week_departure',\n",
    "              'n_days':'n_days_departure'}, axis=1, inplace=True)\n",
    "#     X.drop('DateOfDeparture', axis=1, inplace=True)\n",
    "    \n",
    "\n",
    "#     X.rename({'DateBooked': 'DateOfDeparture'}, axis=1, inplace=True)\n",
    "    date_encoder = FunctionTransformer(_encode_dates)\n",
    "    X = date_encoder.fit_transform(X)\n",
    "    X.rename({'year':'year_booked',\n",
    "             'month':'month_booked',\n",
    "             'day':'day_booked',\n",
    "             'weekday':'weekday_booked',\n",
    "              'week':'week_booked',\n",
    "              'n_days':'n_days_booked'}, axis=1, inplace=True)\n",
    "\n",
    "    columns = ['DateOfDeparture', 'Departure', 'Arrival', 'Days_to_departure', 'state_departure', 'state_arrival']\n",
    "    X.drop(columns, axis=1, inplace=True)\n",
    "    \n",
    "    return X"
   ]
  },
  {
   "cell_type": "code",
   "execution_count": 4,
   "metadata": {},
   "outputs": [],
   "source": [
    "def merge_dfs(database, X):\n",
    "    \n",
    "    X['Days_to_departure'] = (X['WeeksToDeparture'] * 7).round()\n",
    "    X['DateBooked'] = X['DateOfDeparture'] -  pd.to_timedelta(X['Days_to_departure'], unit='d')\n",
    "    \n",
    "    merge_transform = MergeTransformer(\n",
    "        X_ext=database['Date'],\n",
    "        how='left',\n",
    "        cols_to_rename={'DateOfDeparture': 'DateBooked'},\n",
    "        cols_to_keep=['DateBooked', 'oil_stock_price', 'oil_stock_volume', 'AAL_stock_price', 'AAL_stock_volume', 'SP_stock_price', 'SP_stock_volume'],\n",
    "        on=['DateBooked'])\n",
    "    X = merge_transform.fit_transform(X)\n",
    "    \n",
    "    merge_transform = MergeTransformer(\n",
    "        X_ext=database['Airport'], \n",
    "        cols_to_rename={'iata': 'Departure',\n",
    "                        'latitude_deg': 'latitude_departure',\n",
    "                        'longitude_deg': 'longitude_departure',\n",
    "                        'state': 'state_departure',\n",
    "                        'capacity': 'capacity_departure',\n",
    "                        'pop2010': 'population_departure'},\n",
    "        how='left', on=['Departure'])\n",
    "    X = merge_transform.fit_transform(X)\n",
    "    \n",
    "    merge_transform = MergeTransformer(\n",
    "        X_ext=database['Airport'], \n",
    "        cols_to_rename={'iata': 'Arrival', \n",
    "                        'latitude_deg': 'latitude_arrival', \n",
    "                        'longitude_deg': 'longitude_arrival',\n",
    "                        'state': 'state_arrival',\n",
    "                        'capacity': 'capacity_arrival',\n",
    "                        'pop2010': 'population_arrival'},\n",
    "        how='left', on=['Arrival'])\n",
    "\n",
    "    X = merge_transform.fit_transform(X)\n",
    "        \n",
    "    X['distance'] = X.apply(lambda x: geopy.distance.geodesic(\n",
    "        (x.latitude_departure, x.longitude_departure), \n",
    "        (x.latitude_arrival, x.longitude_arrival)).km, axis=1)\n",
    "    \n",
    "    merge_transform = MergeTransformer(\n",
    "        X_ext=database['AirportStatistics'], \n",
    "        cols_to_rename={'Date': 'DateOfDeparture', 'AirPort': 'Departure'}, \n",
    "        how='left',\n",
    "        on=['DateOfDeparture', 'Departure'])\n",
    "\n",
    "    X = merge_transform.fit_transform(X)\n",
    "        \n",
    "    merge_transform = MergeTransformer(\n",
    "        X_ext=database['AirportStatistics'], \n",
    "        cols_to_rename={'Date': 'DateOfDeparture', 'AirPort': 'Arrival'}, \n",
    "        how='left',\n",
    "        on=['DateOfDeparture', 'Arrival'])\n",
    "\n",
    "    X = merge_transform.fit_transform(X)\n",
    "        \n",
    "    database['StateFeatures'].rename({'Abbreviation': 'state_departure'}, axis=1, inplace=True)    \n",
    "    merge_transform = MergeTransformer(\n",
    "        X_ext=database['StateFeatures'],\n",
    "        cols_to_keep=['DateOfDeparture', 'state_departure', 'holidays', 'GDP_per_cap'],\n",
    "        how='left',\n",
    "        on=['DateOfDeparture', 'state_departure'])\n",
    "    \n",
    "    X = merge_transform.fit_transform(X)\n",
    "    \n",
    "    merge_transform = MergeTransformer(\n",
    "        X_ext=database['StateFeatures'],\n",
    "        cols_to_keep=['DateBooked', 'UnemploymentRateBooked'],\n",
    "        cols_to_rename={'DateOfDeparture': 'DateBooked', 'UnemploymentRate': 'UnemploymentRateBooked'},\n",
    "        how='left',\n",
    "        on=['DateBooked', 'state_departure'])\n",
    "    \n",
    "    X = merge_transform.fit_transform(X)\n",
    "    \n",
    "    ### Cleaning related features ###\n",
    "    X = clean_df(X)\n",
    "   \n",
    "    return X"
   ]
  },
  {
   "cell_type": "code",
   "execution_count": 5,
   "metadata": {},
   "outputs": [
    {
     "name": "stdout",
     "output_type": "stream",
     "text": [
      "oil col Index(['Date', 'Close', 'Volume'], dtype='object')\n",
      "Index(['rank', 'name', 'usps', 'pop2020', 'pop2010', 'change', 'density',\n",
      "       'aland'],\n",
      "      dtype='object')\n",
      "\n",
      "\n",
      "\n",
      "Index(['iata', 'municipality', 'latitude_deg', 'longitude_deg', 'state'], dtype='object')\n",
      "['pop2010', 'municipality']\n",
      "['UnemploymentRate', 'year', 'month', 'State']\n",
      "['State', 'GDP_per_cap']\n",
      "['DateOfDeparture', 'school_holidays']\n"
     ]
    }
   ],
   "source": [
    "database = create_db()"
   ]
  },
  {
   "cell_type": "code",
   "execution_count": 6,
   "metadata": {},
   "outputs": [
    {
     "name": "stdout",
     "output_type": "stream",
     "text": [
      "<class 'pandas.core.frame.DataFrame'>\n",
      "RangeIndex: 8902 entries, 0 to 8901\n",
      "Data columns (total 5 columns):\n",
      " #   Column            Non-Null Count  Dtype         \n",
      "---  ------            --------------  -----         \n",
      " 0   DateOfDeparture   8902 non-null   datetime64[ns]\n",
      " 1   Departure         8902 non-null   object        \n",
      " 2   Arrival           8902 non-null   object        \n",
      " 3   WeeksToDeparture  8902 non-null   float64       \n",
      " 4   std_wtd           8902 non-null   float64       \n",
      "dtypes: datetime64[ns](1), float64(2), object(2)\n",
      "memory usage: 347.9+ KB\n",
      "None\n",
      "['DateBooked', 'oil_stock_price', 'oil_stock_volume', 'AAL_stock_price', 'AAL_stock_volume', 'SP_stock_price', 'SP_stock_volume']\n",
      "['DateOfDeparture', 'state_departure', 'holidays', 'GDP_per_cap']\n",
      "In if if :  ['DateBooked', 'UnemploymentRateBooked']\n",
      "['DateBooked', 'UnemploymentRateBooked', 'state_departure']\n"
     ]
    }
   ],
   "source": [
    "print(X_train.info())\n",
    "X_train = merge_dfs(database, X_train)"
   ]
  },
  {
   "cell_type": "code",
   "execution_count": 7,
   "metadata": {
    "scrolled": true
   },
   "outputs": [
    {
     "name": "stdout",
     "output_type": "stream",
     "text": [
      "['DateBooked', 'oil_stock_price', 'oil_stock_volume', 'AAL_stock_price', 'AAL_stock_volume', 'SP_stock_price', 'SP_stock_volume']\n",
      "['DateOfDeparture', 'state_departure', 'holidays', 'GDP_per_cap']\n",
      "In if if :  ['DateBooked', 'UnemploymentRateBooked']\n",
      "['DateBooked', 'UnemploymentRateBooked', 'state_departure']\n"
     ]
    }
   ],
   "source": [
    "X_test = merge_dfs(database, X_test)"
   ]
  },
  {
   "cell_type": "code",
   "execution_count": 8,
   "metadata": {
    "scrolled": true
   },
   "outputs": [],
   "source": [
    "X_train.to_csv('../data/X_train.csv', index=False)\n",
    "X_test.to_csv('../data/X_test.csv', index=False)"
   ]
  },
  {
   "cell_type": "code",
   "execution_count": 9,
   "metadata": {},
   "outputs": [],
   "source": [
    "y_train_pd = pd.Series(y_train)\n",
    "y_test_pd = pd.Series(y_test)\n",
    "\n",
    "y_train_pd.to_csv('../data/y_train.csv', index=False)\n",
    "y_test_pd.to_csv('../data/y_test.csv', index=False)"
   ]
  }
 ],
 "metadata": {
  "kernelspec": {
   "display_name": "Python 3",
   "language": "python",
   "name": "python3"
  },
  "language_info": {
   "codemirror_mode": {
    "name": "ipython",
    "version": 3
   },
   "file_extension": ".py",
   "mimetype": "text/x-python",
   "name": "python",
   "nbconvert_exporter": "python",
   "pygments_lexer": "ipython3",
   "version": "3.8.5"
  }
 },
 "nbformat": 4,
 "nbformat_minor": 4
}
