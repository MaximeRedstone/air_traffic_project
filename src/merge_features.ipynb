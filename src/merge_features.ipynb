{
 "cells": [
  {
   "cell_type": "code",
   "execution_count": 1,
   "metadata": {},
   "outputs": [],
   "source": [
    "import pandas as pd\n",
    "import geopy.distance\n",
    "import problem\n",
    "from merge_transformer import MergeTransformer\n",
    "from create_db import create_db\n",
    "import os"
   ]
  },
  {
   "cell_type": "code",
   "execution_count": 2,
   "metadata": {},
   "outputs": [],
   "source": [
    "X_train, y_train = problem.get_train_data('..')\n",
    "X_train.loc[:, \"DateOfDeparture\"] = pd.to_datetime(X_train['DateOfDeparture'])\n",
    "\n",
    "X_test, y_test = problem.get_test_data('..')\n",
    "X_test.loc[:, \"DateOfDeparture\"] = pd.to_datetime(X_test['DateOfDeparture'])"
   ]
  },
  {
   "cell_type": "code",
   "execution_count": 3,
   "metadata": {},
   "outputs": [],
   "source": [
    "def merge_dfs(X):\n",
    "    \n",
    "    database = create_db()\n",
    "        \n",
    "    merge_transform = MergeTransformer(X_ext=database['Date'], how='left', on=['DateOfDeparture'])\n",
    "    X = merge_transform.fit_transform(X)\n",
    "        \n",
    "    merge_transform = MergeTransformer(\n",
    "        X_ext=database['Airport'], \n",
    "        cols_to_rename={'iata': 'Departure',\n",
    "                        'latitude_deg': 'latitude_departure',\n",
    "                        'longitude_deg': 'longitude_departure',\n",
    "                        'state': 'state_departure',\n",
    "                        'capacity': 'capacity_departure'},\n",
    "        how='inner', on=['Departure'])\n",
    "    X = merge_transform.fit_transform(X)\n",
    "\n",
    "    merge_transform = MergeTransformer(\n",
    "        X_ext=database['Airport'], \n",
    "        cols_to_rename={'iata': 'Arrival', \n",
    "                        'latitude_deg': 'latitude_arrival', \n",
    "                        'longitude_deg': 'longitude_arrival',\n",
    "                        'state': 'state_arrival',\n",
    "                        'capacity': 'capacity_arrival'},\n",
    "        how='inner', on=['Arrival'])\n",
    "\n",
    "    X = merge_transform.fit_transform(X)\n",
    "    \n",
    "    X['distance'] = X.apply(lambda x: geopy.distance.geodesic(\n",
    "        (x.latitude_departure, x.longitude_departure), \n",
    "        (x.latitude_arrival, x.longitude_arrival)).km, axis=1)\n",
    "    \n",
    "    merge_transform = MergeTransformer(\n",
    "        X_ext=database['Weather'], \n",
    "        cols_to_rename={'Date': 'DateOfDeparture', 'AirPort': 'Arrival'}, \n",
    "        how='left',\n",
    "        on=['DateOfDeparture', 'Arrival'])\n",
    "\n",
    "    X = merge_transform.fit_transform(X)\n",
    "\n",
    "    merge_transform = MergeTransformer(\n",
    "        X_ext=database['StateFeatures'],\n",
    "        cols_to_keep=['DateOfDeparture', 'state', 'UnemploymentRate', 'holidays'],\n",
    "        cols_to_rename={'state': 'state_departure'}, \n",
    "        how='left',\n",
    "        on=['DateOfDeparture', 'state_departure'])\n",
    "    \n",
    "#     print(database['StateFeatures'].head())\n",
    "\n",
    "    X = merge_transform.fit_transform(X)\n",
    "    \n",
    "    return X"
   ]
  },
  {
   "cell_type": "code",
   "execution_count": 4,
   "metadata": {},
   "outputs": [],
   "source": [
    "X_train = merge_dfs(X_train)"
   ]
  },
  {
   "cell_type": "code",
   "execution_count": 5,
   "metadata": {},
   "outputs": [],
   "source": [
    "X_test = merge_dfs(X_test)"
   ]
  },
  {
   "cell_type": "code",
   "execution_count": 6,
   "metadata": {
    "scrolled": true
   },
   "outputs": [],
   "source": [
    "X_train.to_csv('../data/X_train.csv', index=False)\n",
    "X_test.to_csv('../data/X_test.csv', index=False)"
   ]
  },
  {
   "cell_type": "code",
   "execution_count": 7,
   "metadata": {},
   "outputs": [],
   "source": [
    "y_train_pd = pd.Series(y_train)\n",
    "y_test_pd = pd.Series(y_test)\n",
    "\n",
    "y_train_pd.to_csv('../data/y_train.csv', index=False)\n",
    "y_test_pd.to_csv('../data/y_test.csv', index=False)"
   ]
  }
 ],
 "metadata": {
  "kernelspec": {
   "display_name": "Python 3",
   "language": "python",
   "name": "python3"
  },
  "language_info": {
   "codemirror_mode": {
    "name": "ipython",
    "version": 3
   },
   "file_extension": ".py",
   "mimetype": "text/x-python",
   "name": "python",
   "nbconvert_exporter": "python",
   "pygments_lexer": "ipython3",
   "version": "3.8.5"
  }
 },
 "nbformat": 4,
 "nbformat_minor": 4
}
