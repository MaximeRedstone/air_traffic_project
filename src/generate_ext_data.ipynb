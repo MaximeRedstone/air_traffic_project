{
 "cells": [
  {
   "cell_type": "code",
   "execution_count": 1,
   "metadata": {},
   "outputs": [],
   "source": [
    "from sklearn.preprocessing import FunctionTransformer\n",
    "import pandas as pd\n",
    "import holidays\n",
    "import warnings\n",
    "from merge_transformer import MergeTransformer\n",
    "from create_db import create_db\n",
    "\n",
    "warnings.simplefilter(action='ignore', category=FutureWarning)"
   ]
  },
  {
   "cell_type": "code",
   "execution_count": 2,
   "metadata": {},
   "outputs": [],
   "source": [
    "def check_csv_correct(X):\n",
    "        \n",
    "    if X.isna().sum().all() != 0:\n",
    "        return False\n",
    "    return True"
   ]
  },
  {
   "cell_type": "code",
   "execution_count": 3,
   "metadata": {},
   "outputs": [],
   "source": [
    "def merge_dfs(database, submission_dir):\n",
    "    \n",
    "    X = database['AirportStatistics']\n",
    "    \n",
    "    merge_transform = MergeTransformer(X_ext=database['Date'], how='left', on=['DateOfDeparture'])\n",
    "    X = merge_transform.fit_transform(X)\n",
    "    \n",
    "    merge_transform = MergeTransformer(X_ext=database['Airport'], cols_to_rename={'iata': 'AirPort'}, \n",
    "                                       how='inner', on=['AirPort'])\n",
    "    X = merge_transform.fit_transform(X)\n",
    "    \n",
    "    merge_transform = MergeTransformer(X_ext=database['StateFeatures'],\n",
    "                                       cols_to_keep=['state', 'year', 'month', 'UnemploymentRate', 'holidays', 'GDP_per_cap', 'closest_holidays'],\n",
    "                                       cols_to_rename={'Abbreviation': 'state'}, how='left', \n",
    "                                       on=['year', 'month', 'day', 'state'])\n",
    "    X = merge_transform.fit_transform(X)\n",
    "    \n",
    "    merge_transform = MergeTransformer(X_ext=database['Routes'],\n",
    "                                       cols_to_rename={'Departure': 'AirPort'},\n",
    "                                       on=['AirPort'])\n",
    "    X = merge_transform.fit_transform(X)\n",
    "    \n",
    "    all_check = check_csv_correct(X)\n",
    "    \n",
    "    if all_check:\n",
    "        X.to_csv(submission_dir + 'external_data.csv')\n",
    "    else:\n",
    "        raise Exception(\"Sorry will not create CSV as Database has Nans or some other shit. Try Again!\")\n",
    "        \n",
    "    return all_check"
   ]
  },
  {
   "cell_type": "code",
   "execution_count": 4,
   "metadata": {},
   "outputs": [],
   "source": [
    "def create_external_data(submission_dir):\n",
    "    \n",
    "    database = create_db()\n",
    "    merge_dfs(database, submission_dir)"
   ]
  },
  {
   "cell_type": "code",
   "execution_count": 5,
   "metadata": {
    "scrolled": true
   },
   "outputs": [
    {
     "name": "stdout",
     "output_type": "stream",
     "text": [
      "<class 'pandas.core.frame.DataFrame'>\n",
      "Int64Index: 41340 entries, 0 to 41339\n",
      "Data columns (total 12 columns):\n",
      " #   Column            Non-Null Count  Dtype         \n",
      "---  ------            --------------  -----         \n",
      " 0   DateOfDeparture   41340 non-null  datetime64[ns]\n",
      " 1   year              41340 non-null  int64         \n",
      " 2   month             41340 non-null  int64         \n",
      " 3   day               41340 non-null  int64         \n",
      " 4   weekday           41340 non-null  int64         \n",
      " 5   week              41340 non-null  int64         \n",
      " 6   n_days            41340 non-null  int64         \n",
      " 7   day_nb            41340 non-null  int64         \n",
      " 8   UnemploymentRate  41340 non-null  float64       \n",
      " 9   State             41340 non-null  object        \n",
      " 10  Abbreviation      40545 non-null  object        \n",
      " 11  GDP_per_cap       40545 non-null  float64       \n",
      "dtypes: datetime64[ns](1), float64(2), int64(7), object(2)\n",
      "memory usage: 4.1+ MB\n",
      "None\n"
     ]
    }
   ],
   "source": [
    "create_external_data('../submissions/test/')"
   ]
  }
 ],
 "metadata": {
  "kernelspec": {
   "display_name": "Python 3",
   "language": "python",
   "name": "python3"
  },
  "language_info": {
   "codemirror_mode": {
    "name": "ipython",
    "version": 3
   },
   "file_extension": ".py",
   "mimetype": "text/x-python",
   "name": "python",
   "nbconvert_exporter": "python",
   "pygments_lexer": "ipython3",
   "version": "3.8.5"
  },
  "varInspector": {
   "cols": {
    "lenName": 16,
    "lenType": 16,
    "lenVar": 40
   },
   "kernels_config": {
    "python": {
     "delete_cmd_postfix": "",
     "delete_cmd_prefix": "del ",
     "library": "var_list.py",
     "varRefreshCmd": "print(var_dic_list())"
    },
    "r": {
     "delete_cmd_postfix": ") ",
     "delete_cmd_prefix": "rm(",
     "library": "var_list.r",
     "varRefreshCmd": "cat(var_dic_list()) "
    }
   },
   "types_to_exclude": [
    "module",
    "function",
    "builtin_function_or_method",
    "instance",
    "_Feature"
   ],
   "window_display": false
  }
 },
 "nbformat": 4,
 "nbformat_minor": 4
}
