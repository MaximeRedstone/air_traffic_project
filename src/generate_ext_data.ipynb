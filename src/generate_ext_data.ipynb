{
 "cells": [
  {
   "cell_type": "code",
   "execution_count": 1,
   "metadata": {},
   "outputs": [],
   "source": [
    "from sklearn.preprocessing import FunctionTransformer\n",
    "import pandas as pd\n",
    "import holidays\n",
    "import warnings\n",
    "from merge_transformer import MergeTransformer\n",
    "from create_db import create_db\n",
    "\n",
    "warnings.simplefilter(action='ignore', category=FutureWarning)"
   ]
  },
  {
   "cell_type": "code",
   "execution_count": 2,
   "metadata": {},
   "outputs": [],
   "source": [
    "def check_csv_correct(X):\n",
    "    \n",
    "    if X.isna().sum().all() != 0:\n",
    "        return False\n",
    "    return True"
   ]
  },
  {
   "cell_type": "code",
   "execution_count": 3,
   "metadata": {},
   "outputs": [],
   "source": [
    "def merge_dfs(database, submission_dir):\n",
    "    \n",
    "    X = database['Weather']\n",
    "    \n",
    "    merge_transform = MergeTransformer(X_ext=database['Date'], how='left', on=['DateOfDeparture'])\n",
    "    X = merge_transform.fit_transform(X)\n",
    "        \n",
    "    merge_transform = MergeTransformer(\n",
    "        X_ext=database['Airport'], \n",
    "        cols_to_rename={'iata': 'AirPort',\n",
    "                        'latitude_deg': 'latitude_departure',\n",
    "                        'longitude_deg': 'longitude_departure',\n",
    "                        'state': 'state_departure',\n",
    "                        'capacity': 'capacity_departure'},\n",
    "        how='inner', on=['AirPort'])\n",
    "    X = merge_transform.fit_transform(X)\n",
    "    \n",
    "    merge_transform = MergeTransformer(\n",
    "        X_ext=database['StateFeatures'],\n",
    "        cols_to_keep=['DateOfDeparture', 'state', 'UnemploymentRate', 'holidays'],\n",
    "        cols_to_rename={'state': 'state_departure'}, \n",
    "        how='left',\n",
    "        on=['DateOfDeparture', 'state_departure'])\n",
    "\n",
    "    X = merge_transform.fit_transform(X)\n",
    "    \n",
    "    X.rename({'AirPort': 'Arrival'}, axis=1, inplace=True)\n",
    "    \n",
    "    all_check = check_csv_correct(X)\n",
    "    \n",
    "    if all_check:\n",
    "        X.to_csv(submission_dir + 'external_data.csv')\n",
    "    else:\n",
    "        raise Exception(\"Sorry will not create CSV as Database has Nans or some other shit. Try Again!\")\n",
    "        \n",
    "    return all_check"
   ]
  },
  {
   "cell_type": "code",
   "execution_count": 4,
   "metadata": {},
   "outputs": [],
   "source": [
    "def create_external_data(submission_dir):\n",
    "    \n",
    "    database = create_db()\n",
    "    merge_dfs(database, submission_dir)"
   ]
  },
  {
   "cell_type": "code",
   "execution_count": 5,
   "metadata": {},
   "outputs": [],
   "source": [
    "create_external_data('../submissions/test/')"
   ]
  }
 ],
 "metadata": {
  "kernelspec": {
   "display_name": "Python 3",
   "language": "python",
   "name": "python3"
  },
  "language_info": {
   "codemirror_mode": {
    "name": "ipython",
    "version": 3
   },
   "file_extension": ".py",
   "mimetype": "text/x-python",
   "name": "python",
   "nbconvert_exporter": "python",
   "pygments_lexer": "ipython3",
   "version": "3.8.5"
  }
 },
 "nbformat": 4,
 "nbformat_minor": 4
}
