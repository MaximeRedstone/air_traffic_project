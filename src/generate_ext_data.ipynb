{
 "cells": [
  {
   "cell_type": "code",
   "execution_count": 6,
   "metadata": {},
   "outputs": [],
   "source": [
    "from sklearn.preprocessing import FunctionTransformer\n",
    "import pandas as pd\n",
    "import holidays\n",
    "import warnings\n",
    "from merge_transformer import MergeTransformer\n",
    "from create_db import create_db\n",
    "\n",
    "warnings.simplefilter(action='ignore', category=FutureWarning)"
   ]
  },
  {
   "cell_type": "code",
   "execution_count": 7,
   "metadata": {},
   "outputs": [],
   "source": [
    "def check_csv_correct(X):\n",
    "    \n",
    "    if X.isna().sum().all() != 0:\n",
    "        return False\n",
    "    return True"
   ]
  },
  {
   "cell_type": "code",
   "execution_count": 8,
   "metadata": {},
   "outputs": [],
   "source": [
    "def merge_dfs(database, submission_dir):\n",
    "    \n",
    "    X = database['AirportStatistics']\n",
    "    \n",
    "    print(\"airportstats cols\", X.columns)\n",
    "    print('\\n\\n\\n\\n')\n",
    "    print(\"date \", database['Date'].columns)\n",
    "    \n",
    "    merge_transform = MergeTransformer(X_ext=database['Date'], \n",
    "                                       how='left', \n",
    "                                       on=['DateOfDeparture'])\n",
    "    X = merge_transform.fit_transform(X)\n",
    "        \n",
    "    print(\"X\", X.columns)\n",
    "    print('\\n\\n\\n\\n')\n",
    "    print(\"airport\", database['Airport'].columns)\n",
    "    \n",
    "    merge_transform = MergeTransformer(\n",
    "        X_ext=database['Airport'], \n",
    "        cols_to_rename={'iata': 'AirPort'},\n",
    "        how='inner', on=['AirPort'])\n",
    "    X = merge_transform.fit_transform(X)\n",
    "    \n",
    "    print(\"Statefeatures\", database['StateFeatures'].head())\n",
    "    print(\"\\n\\n\\n\\n\\n\")\n",
    "    print(\"X \", X.columns)\n",
    "    database['StateFeatures'].to_csv('../data/statefeautes.csv')\n",
    "    \n",
    "    merge_transform = MergeTransformer(\n",
    "        X_ext=database['StateFeatures'],\n",
    "        cols_to_keep=['state', 'year', 'month', 'UnemploymentRate', 'holidays', 'GDP_per_cap'],\n",
    "        cols_to_rename={'Abbreviation': 'state'},\n",
    "        how='inner',\n",
    "        on=['year', 'month', 'state'])\n",
    "\n",
    "    X = merge_transform.fit_transform(X)\n",
    "    \n",
    "    all_check = check_csv_correct(X)\n",
    "    \n",
    "    if all_check:\n",
    "        X.to_csv(submission_dir + 'external_data.csv')\n",
    "    else:\n",
    "        raise Exception(\"Sorry will not create CSV as Database has Nans or some other shit. Try Again!\")\n",
    "        \n",
    "    return all_check"
   ]
  },
  {
   "cell_type": "code",
   "execution_count": 9,
   "metadata": {},
   "outputs": [],
   "source": [
    "def create_external_data(submission_dir):\n",
    "    \n",
    "    database = create_db()\n",
    "    merge_dfs(database, submission_dir)"
   ]
  },
  {
   "cell_type": "code",
   "execution_count": 10,
   "metadata": {
    "scrolled": false
   },
   "outputs": [
    {
     "name": "stdout",
     "output_type": "stream",
     "text": [
      "Goes in if\n",
      "Goes in if\n",
      "airportstats cols Index(['AirPort', 'Max TemperatureC', 'Mean TemperatureC', 'Min TemperatureC',\n",
      "       'Dew PointC', 'MeanDew PointC', 'Min DewpointC', 'Max Humidity',\n",
      "       'Mean Humidity', 'Min Humidity', 'Max Sea Level PressurehPa',\n",
      "       'Mean Sea Level PressurehPa', 'Min Sea Level PressurehPa',\n",
      "       'Max VisibilityKm', 'Mean VisibilityKm', 'Min VisibilitykM',\n",
      "       'Max Wind SpeedKm/h', 'Mean Wind SpeedKm/h', 'CloudCover',\n",
      "       'WindDirDegrees', 'DateOfDeparture', 'LoadFactorDomestic',\n",
      "       'PassengersDomestic'],\n",
      "      dtype='object')\n",
      "\n",
      "\n",
      "\n",
      "\n",
      "\n",
      "date  Index(['DateOfDeparture', 'year', 'month', 'day', 'weekday', 'week', 'n_days',\n",
      "       'oil_stock_price', 'oil_stock_volume', 'AAL_stock_price',\n",
      "       'AAL_stock_volume', 'SP_stock_price', 'SP_stock_volume'],\n",
      "      dtype='object')\n",
      "X Index(['AirPort', 'Max TemperatureC', 'Mean TemperatureC', 'Min TemperatureC',\n",
      "       'Dew PointC', 'MeanDew PointC', 'Min DewpointC', 'Max Humidity',\n",
      "       'Mean Humidity', 'Min Humidity', 'Max Sea Level PressurehPa',\n",
      "       'Mean Sea Level PressurehPa', 'Min Sea Level PressurehPa',\n",
      "       'Max VisibilityKm', 'Mean VisibilityKm', 'Min VisibilitykM',\n",
      "       'Max Wind SpeedKm/h', 'Mean Wind SpeedKm/h', 'CloudCover',\n",
      "       'WindDirDegrees', 'DateOfDeparture', 'LoadFactorDomestic',\n",
      "       'PassengersDomestic', 'year', 'month', 'day', 'weekday', 'week',\n",
      "       'n_days', 'oil_stock_price', 'oil_stock_volume', 'AAL_stock_price',\n",
      "       'AAL_stock_volume', 'SP_stock_price', 'SP_stock_volume'],\n",
      "      dtype='object')\n",
      "\n",
      "\n",
      "\n",
      "\n",
      "\n",
      "airport Index(['iata', 'latitude_deg', 'longitude_deg', 'state', 'pop2010'], dtype='object')\n",
      "Statefeatures   DateOfDeparture  year  month  day  weekday  week  n_days  UnemploymentRate  \\\n",
      "0      2011-01-01  2011      1    1        5    52   14975               9.3   \n",
      "1      2011-01-01  2011      1    1        5    52   14975               7.7   \n",
      "2      2011-01-01  2011      1    1        5    52   14975               9.6   \n",
      "3      2011-01-01  2011      1    1        5    52   14975               7.8   \n",
      "4      2011-01-01  2011      1    1        5    52   14975              12.4   \n",
      "\n",
      "        State Abbreviation  GDP_per_cap  holidays  \n",
      "0     Alabama           AL      35913.0      True  \n",
      "1      Alaska           AK      69564.0      True  \n",
      "2     Arizona           AZ      37935.0      True  \n",
      "3    Arkansas           AR      34671.0      True  \n",
      "4  California           CA      51871.0      True  \n",
      "\n",
      "\n",
      "\n",
      "\n",
      "\n",
      "\n",
      "X  Index(['AirPort', 'Max TemperatureC', 'Mean TemperatureC', 'Min TemperatureC',\n",
      "       'Dew PointC', 'MeanDew PointC', 'Min DewpointC', 'Max Humidity',\n",
      "       'Mean Humidity', 'Min Humidity', 'Max Sea Level PressurehPa',\n",
      "       'Mean Sea Level PressurehPa', 'Min Sea Level PressurehPa',\n",
      "       'Max VisibilityKm', 'Mean VisibilityKm', 'Min VisibilitykM',\n",
      "       'Max Wind SpeedKm/h', 'Mean Wind SpeedKm/h', 'CloudCover',\n",
      "       'WindDirDegrees', 'DateOfDeparture', 'LoadFactorDomestic',\n",
      "       'PassengersDomestic', 'year', 'month', 'day', 'weekday', 'week',\n",
      "       'n_days', 'oil_stock_price', 'oil_stock_volume', 'AAL_stock_price',\n",
      "       'AAL_stock_volume', 'SP_stock_price', 'SP_stock_volume', 'latitude_deg',\n",
      "       'longitude_deg', 'state', 'pop2010'],\n",
      "      dtype='object')\n"
     ]
    }
   ],
   "source": [
    "create_external_data('../submissions/test/')"
   ]
  },
  {
   "cell_type": "code",
   "execution_count": null,
   "metadata": {},
   "outputs": [],
   "source": []
  },
  {
   "cell_type": "code",
   "execution_count": null,
   "metadata": {},
   "outputs": [],
   "source": []
  }
 ],
 "metadata": {
  "kernelspec": {
   "display_name": "Python 3",
   "language": "python",
   "name": "python3"
  },
  "language_info": {
   "codemirror_mode": {
    "name": "ipython",
    "version": 3
   },
   "file_extension": ".py",
   "mimetype": "text/x-python",
   "name": "python",
   "nbconvert_exporter": "python",
   "pygments_lexer": "ipython3",
   "version": "3.8.5"
  }
 },
 "nbformat": 4,
 "nbformat_minor": 4
}
