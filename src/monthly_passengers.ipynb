{
 "cells": [
  {
   "cell_type": "code",
   "execution_count": 1,
   "metadata": {},
   "outputs": [],
   "source": [
    "import problem\n",
    "import pandas as pd\n",
    "import numpy as np\n",
    "from sklearn.preprocessing import FunctionTransformer\n",
    "import matplotlib.pyplot as plt\n",
    "import seaborn as sns\n",
    "import itertools\n",
    "from merge_transformer import MergeTransformer\n",
    "import os"
   ]
  },
  {
   "cell_type": "code",
   "execution_count": 2,
   "metadata": {},
   "outputs": [],
   "source": [
    "list_files = os.listdir('../data/Airports')\n",
    "all_airports = pd.DataFrame(columns=['Year', 'Month', 'LoadFactorDomestic', 'PassengersDomestic', 'Iata'])"
   ]
  },
  {
   "cell_type": "code",
   "execution_count": 3,
   "metadata": {},
   "outputs": [],
   "source": [
    "for file in list_files:\n",
    "    iata = file.split('_')\n",
    "    iata = iata[0]\n",
    "    csv = pd.read_csv('../data/Airports/' + file)\n",
    "#     print(csv.shape)\n",
    "    csv['Iata'] = iata\n",
    "    totals = csv.index[csv['Month'] == 'TOTAL'].tolist()\n",
    "    csv.drop(totals, axis=0, inplace=True)\n",
    "#     print(csv.shape)\n",
    "    shit_years = csv.index[~csv['Year'].isin(['2011', '2012', '2013'])].tolist()\n",
    "    csv.drop(shit_years, axis=0, inplace=True)\n",
    "#     print(csv.shape)\n",
    "#     print('\\n\\n')\n",
    "    all_airports = pd.concat([all_airports, csv])"
   ]
  },
  {
   "cell_type": "code",
   "execution_count": 4,
   "metadata": {},
   "outputs": [],
   "source": [
    "all_airports.to_csv('../data/airports_statistics.csv')"
   ]
  },
  {
   "cell_type": "code",
   "execution_count": null,
   "metadata": {},
   "outputs": [],
   "source": []
  }
 ],
 "metadata": {
  "kernelspec": {
   "display_name": "Python 3",
   "language": "python",
   "name": "python3"
  },
  "language_info": {
   "codemirror_mode": {
    "name": "ipython",
    "version": 3
   },
   "file_extension": ".py",
   "mimetype": "text/x-python",
   "name": "python",
   "nbconvert_exporter": "python",
   "pygments_lexer": "ipython3",
   "version": "3.8.5"
  }
 },
 "nbformat": 4,
 "nbformat_minor": 4
}
