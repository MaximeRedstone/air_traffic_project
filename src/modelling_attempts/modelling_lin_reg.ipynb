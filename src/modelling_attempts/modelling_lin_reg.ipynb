{
 "cells": [
  {
   "cell_type": "code",
   "execution_count": 4,
   "metadata": {},
   "outputs": [],
   "source": [
    "get_ipython().run_line_magic('matplotlib', 'inline')\n",
    "import os, sys\n",
    "\n",
    "# sys.path.append(\"~/X/PythonForDataScience/air_traffic_project/submissions/first_real_submission/\")\n",
    "\n",
    "import importlib\n",
    "import numpy as np\n",
    "import pandas as pd\n",
    "import matplotlib.pyplot as plt\n",
    "from problem import *\n",
    "from sklearn.pipeline import make_pipeline, Pipeline\n",
    "from sklearn.preprocessing import StandardScaler, LabelEncoder, OneHotEncoder, FunctionTransformer\n",
    "from sklearn.decomposition import PCA\n",
    "import geopy.distance\n",
    "from sklearn.metrics import mean_squared_error\n",
    "from model_selection_python import *\n",
    "import statsmodels.api as sm\n",
    "import seaborn as sns\n",
    "from sklearn.model_selection import GridSearchCV, cross_val_score\n",
    "from sklearn.ensemble import RandomForestRegressor\n",
    "from sklearn.inspection import permutation_importance\n",
    "from sklearn.linear_model import LinearRegression\n",
    "\n",
    "from six import StringIO  \n",
    "from IPython.display import Image  \n",
    "from sklearn.tree import export_graphviz\n",
    "import pydotplus\n",
    "import os\n",
    "\n",
    "from estimator import _merge_external_data\n",
    "from keras.wrappers.scikit_learn import KerasRegressor\n",
    "\n",
    "import tensorflow as tf\n",
    "import tensorflow.keras as keras\n",
    "from tensorflow.keras.layers import Dense,Dropout\n",
    "from tensorflow.keras.models import Sequential\n",
    "from keras.metrics import RootMeanSquaredError\n",
    "\n",
    "from xgboost import XGBRegressor\n",
    "import xgboost as xgb\n",
    "\n",
    "\n",
    "pd.set_option('display.max_columns', None)"
   ]
  },
  {
   "cell_type": "code",
   "execution_count": 5,
   "metadata": {},
   "outputs": [],
   "source": [
    "X_train, y_train = get_train_data('..')\n",
    "X_test, y_test = get_test_data('..')\n",
    "\n",
    "X_train_merged = _merge_external_data(X_train)\n",
    "X_test_merged = _merge_external_data(X_test)\n",
    "\n",
    "features_to_keep = ['WeeksToDeparture', 'std_wtd', 'route_mean',\n",
    "       'n_days_departure', 'day_nb_mean', 'day_mean', 'week_mean',\n",
    "       'month_mean', 'mean_per_flight_arr']\n",
    "\n",
    "X_train_data = X_train_merged[features_to_keep]\n",
    "# Prediction performance on test set is not as good as on train set\n",
    "X_test_data = X_test_merged[features_to_keep]"
   ]
  },
  {
   "cell_type": "code",
   "execution_count": 8,
   "metadata": {},
   "outputs": [
    {
     "name": "stdout",
     "output_type": "stream",
     "text": [
      "0.7253183940432931\n",
      "{}\n",
      "Training RMSE: 0.52046326714954 and Score: 0.7257768983440757\n",
      "Testing RMSE: 0.5479090016769841 and Score: 0.7087318554823978\n"
     ]
    }
   ],
   "source": [
    "grid_params = {}\n",
    "\n",
    "gs = GridSearchCV(estimator=LinearRegression(),\n",
    "                  param_grid=grid_params,\n",
    "                  n_jobs=-1,\n",
    "                  cv=5,\n",
    "                  verbose=0)\n",
    "\n",
    "gs.fit(X_train_data, y_train)        \n",
    "print(gs.best_score_)\n",
    "print(gs.best_params_)\n",
    "\n",
    "score_train = gs.score(X_train_data, y_train)\n",
    "score_test = gs.score(X_test_data, y_test)\n",
    "\n",
    "rmse_train = mean_squared_error(y_train, gs.predict(X_train_data), squared=False)\n",
    "rmse_test = mean_squared_error(y_test, gs.predict(X_test_data), squared=False)\n",
    "\n",
    "print(f\"Training RMSE: {rmse_train} and Score: {score_train}\")\n",
    "print(f\"Testing RMSE: {rmse_test} and Score: {score_test}\")"
   ]
  },
  {
   "cell_type": "code",
   "execution_count": null,
   "metadata": {},
   "outputs": [],
   "source": []
  }
 ],
 "metadata": {
  "kernelspec": {
   "display_name": "Python 3",
   "language": "python",
   "name": "python3"
  },
  "language_info": {
   "codemirror_mode": {
    "name": "ipython",
    "version": 3
   },
   "file_extension": ".py",
   "mimetype": "text/x-python",
   "name": "python",
   "nbconvert_exporter": "python",
   "pygments_lexer": "ipython3",
   "version": "3.8.5"
  }
 },
 "nbformat": 4,
 "nbformat_minor": 4
}
