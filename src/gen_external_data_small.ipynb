{
 "cells": [
  {
   "cell_type": "code",
   "execution_count": 1,
   "metadata": {},
   "outputs": [],
   "source": [
    "from sklearn.preprocessing import FunctionTransformer\n",
    "import pandas as pd\n",
    "import holidays\n",
    "import warnings\n",
    "from merge_transformer import MergeTransformer\n",
    "from create_db import create_db\n",
    "\n",
    "from geopy.point import Point\n",
    "import geopy.distance\n",
    "\n",
    "warnings.simplefilter(action='ignore', category=FutureWarning)"
   ]
  },
  {
   "cell_type": "code",
   "execution_count": 2,
   "metadata": {},
   "outputs": [],
   "source": [
    "def check_csv_correct(X):\n",
    "        \n",
    "    if X.isna().sum().all() != 0:\n",
    "        return False\n",
    "    return True"
   ]
  },
  {
   "cell_type": "code",
   "execution_count": 13,
   "metadata": {},
   "outputs": [],
   "source": [
    "database = create_db()"
   ]
  },
  {
   "cell_type": "code",
   "execution_count": 49,
   "metadata": {},
   "outputs": [],
   "source": [
    "def reduce_X(X):\n",
    "    \n",
    "    print(X.shape)\n",
    "    \n",
    "    X.loc[:, 'DateOfDeparture'] = pd.to_datetime(X['DateOfDeparture'])\n",
    "\n",
    "    start_date = '09/01/2011'\n",
    "    end_date = '03/05/2013'\n",
    "    \n",
    "    X = X[X.DateOfDeparture.between(start_date, end_date)]\n",
    "    print(X.shape)\n",
    "    \n",
    "    return X"
   ]
  },
  {
   "cell_type": "code",
   "execution_count": 50,
   "metadata": {},
   "outputs": [],
   "source": [
    "def merge_dfs(database, submission_dir):\n",
    "    \n",
    "    X = database['AirportStatistics']\n",
    "\n",
    "    merge_transform = MergeTransformer(X_ext=database['Date'], how='left', on=['DateOfDeparture'])\n",
    "    X = merge_transform.fit_transform(X)\n",
    "    \n",
    "    merge_transform = MergeTransformer(X_ext=database['Airport'], \n",
    "                                       cols_to_keep=['AirPort', 'latitude_dep', 'longitude_dep', 'state_dep'],\n",
    "                                       cols_to_rename={'iata': 'AirPort', 'latitude_deg': 'latitude_dep',\n",
    "                                                       'longitude_deg': 'longitude_dep', \n",
    "                                                       'state': 'state_dep'}, \n",
    "                                       how='left', on=['AirPort'])\n",
    "    X = merge_transform.fit_transform(X)\n",
    "    \n",
    "    merge_transform = MergeTransformer(X_ext=database['StateFeatures'],\n",
    "                                       cols_to_keep=['State', 'year', 'month', 'UnemploymentRate', 'holidays', 'GDP_per_cap', 'closest_holidays'],\n",
    "                                       cols_to_rename={'Abbreviation': 'state_dep'}, how='left', \n",
    "                                       on=['year', 'month', 'day', 'state_dep'])\n",
    "    X = merge_transform.fit_transform(X)\n",
    "    \n",
    "    merge_transform = MergeTransformer(X_ext=database['Routes'],\n",
    "                                       cols_to_rename={'Departure': 'AirPort'},\n",
    "                                       on=['AirPort'])\n",
    "    X = merge_transform.fit_transform(X)\n",
    "    \n",
    "    merge_transform = MergeTransformer(X_ext=database['Passengers'],\n",
    "                                       cols_to_rename={'Date': 'DateOfDeparture', 'Airport': 'Arrival'},\n",
    "                                       on=['Arrival', 'DateOfDeparture'])\n",
    "    X = merge_transform.fit_transform(X)\n",
    "    \n",
    "    merge_transform = MergeTransformer(X_ext=database['Airport'],\n",
    "                                       cols_to_keep=['Arrival', 'latitude_arr', 'longitude_arr'],\n",
    "                                       cols_to_rename={'iata': 'Arrival', 'latitude_deg': 'latitude_arr',\n",
    "                                                       'longitude_deg': 'longitude_arr'},\n",
    "                                       how='left', on=['Arrival'])\n",
    "    X = merge_transform.fit_transform(X)\n",
    "\n",
    "    all_check = check_csv_correct(X)\n",
    "    \n",
    "    X['distance'] = X.apply(lambda x: geopy.distance.distance(\n",
    "        Point(latitude=x.latitude_dep, longitude=x.longitude_dep),\n",
    "        Point(latitude=x.latitude_arr, longitude=x.longitude_arr)).km, axis=1)\n",
    "\n",
    "    features_to_keep = ['DateOfDeparture', 'AirPort',\n",
    "                            'n_days', 'day_nb', 'oil_stock_price', 'oil_stock_volume', \n",
    "                            'AAL_stock_price', 'AAL_stock_volume', 'SP_stock_price',\n",
    "                            'SP_stock_volume', 'day_mean', 'week_mean', 'month_mean', 'day_nb_mean', 'route_mean',\n",
    "                            'Arrival', 'distance', 'Total', 'Flights', 'Booths', 'Mean per flight']                \n",
    "    X = X[features_to_keep]\n",
    "    \n",
    "    if all_check:\n",
    "        X = reduce_X(X)\n",
    "        X.to_csv(submission_dir + 'external_data.csv')\n",
    "    else:\n",
    "        raise Exception(\"Sorry will not create CSV as Database has Nans or some other shit. Try Again!\")\n",
    "        \n",
    "    return all_check"
   ]
  },
  {
   "cell_type": "code",
   "execution_count": 51,
   "metadata": {},
   "outputs": [],
   "source": [
    "# def create_external_data(submission_dir):\n",
    "    \n",
    "#     database = create_db()\n",
    "#     merge_dfs(database, submission_dir)"
   ]
  },
  {
   "cell_type": "code",
   "execution_count": 52,
   "metadata": {
    "scrolled": false
   },
   "outputs": [
    {
     "name": "stdout",
     "output_type": "stream",
     "text": [
      "(109312, 21)\n",
      "(70656, 21)\n"
     ]
    },
    {
     "data": {
      "text/plain": [
       "True"
      ]
     },
     "execution_count": 52,
     "metadata": {},
     "output_type": "execute_result"
    }
   ],
   "source": [
    "merge_dfs(database, '../submissions/test/')"
   ]
  },
  {
   "cell_type": "code",
   "execution_count": null,
   "metadata": {},
   "outputs": [],
   "source": []
  },
  {
   "cell_type": "code",
   "execution_count": null,
   "metadata": {},
   "outputs": [],
   "source": []
  }
 ],
 "metadata": {
  "kernelspec": {
   "display_name": "Python 3",
   "language": "python",
   "name": "python3"
  },
  "language_info": {
   "codemirror_mode": {
    "name": "ipython",
    "version": 3
   },
   "file_extension": ".py",
   "mimetype": "text/x-python",
   "name": "python",
   "nbconvert_exporter": "python",
   "pygments_lexer": "ipython3",
   "version": "3.8.5"
  }
 },
 "nbformat": 4,
 "nbformat_minor": 4
}
